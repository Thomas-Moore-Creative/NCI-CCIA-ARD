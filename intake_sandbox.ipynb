{
 "cells": [
  {
   "cell_type": "markdown",
   "metadata": {},
   "source": [
    "# CMIP5 sandbox"
   ]
  },
  {
   "cell_type": "markdown",
   "metadata": {},
   "source": [
    ">12 April 2021<br>\n",
    ">Thomas Moore"
   ]
  },
  {
   "cell_type": "code",
   "execution_count": 1,
   "metadata": {},
   "outputs": [],
   "source": [
    "import xarray as xr\n",
    "from dask_jobqueue import PBSCluster\n",
    "from dask.distributed import Client\n",
    "import numpy as np\n",
    "import xrft\n",
    "import scipy"
   ]
  },
  {
   "cell_type": "markdown",
   "metadata": {},
   "source": [
    "# Spin up a little cluster with `dask-jobqueue`"
   ]
  },
  {
   "cell_type": "markdown",
   "metadata": {},
   "source": [
    "### Specs for an individual worker"
   ]
  },
  {
   "cell_type": "code",
   "execution_count": 2,
   "metadata": {},
   "outputs": [],
   "source": [
    "walltime = '04:00:00'\n",
    "cores = 2\n",
    "memory = '8GB'\n",
    "\n",
    "cluster = PBSCluster(walltime=str(walltime), cores=cores, memory=str(memory),\n",
    "                     job_extra=['-l ncpus='+str(cores),'-l mem='+str(memory),\n",
    "                                '-l storage=gdata/v14+scratch/v14+gdata/lp01+scratch/lp01+scratch/ux06+gdata/rr3'],\n",
    "                     header_skip=[\"select\"])"
   ]
  },
  {
   "cell_type": "markdown",
   "metadata": {},
   "source": [
    "### Scale up to n workers"
   ]
  },
  {
   "cell_type": "code",
   "execution_count": 3,
   "metadata": {},
   "outputs": [],
   "source": [
    "cluster.scale(jobs=4)"
   ]
  },
  {
   "cell_type": "code",
   "execution_count": 4,
   "metadata": {},
   "outputs": [
    {
     "data": {
      "text/html": [
       "<table style=\"border: 2px solid white;\">\n",
       "<tr>\n",
       "<td style=\"vertical-align: top; border: 0px solid white\">\n",
       "<h3 style=\"text-align: left;\">Client</h3>\n",
       "<ul style=\"text-align: left; list-style: none; margin: 0; padding: 0;\">\n",
       "  <li><b>Scheduler: </b>tcp://10.6.76.36:36919</li>\n",
       "  <li><b>Dashboard: </b><a href='http://10.6.76.36:8787/status' target='_blank'>http://10.6.76.36:8787/status</a></li>\n",
       "</ul>\n",
       "</td>\n",
       "<td style=\"vertical-align: top; border: 0px solid white\">\n",
       "<h3 style=\"text-align: left;\">Cluster</h3>\n",
       "<ul style=\"text-align: left; list-style:none; margin: 0; padding: 0;\">\n",
       "  <li><b>Workers: </b>0</li>\n",
       "  <li><b>Cores: </b>0</li>\n",
       "  <li><b>Memory: </b>0 B</li>\n",
       "</ul>\n",
       "</td>\n",
       "</tr>\n",
       "</table>"
      ],
      "text/plain": [
       "<Client: 'tcp://10.6.76.36:36919' processes=0 threads=0, memory=0 B>"
      ]
     },
     "execution_count": 4,
     "metadata": {},
     "output_type": "execute_result"
    }
   ],
   "source": [
    "client = Client(cluster)\n",
    "client"
   ]
  },
  {
   "cell_type": "code",
   "execution_count": 5,
   "metadata": {},
   "outputs": [
    {
     "data": {
      "text/html": [
       "<table style=\"border: 2px solid white;\">\n",
       "<tr>\n",
       "<td style=\"vertical-align: top; border: 0px solid white\">\n",
       "<h3 style=\"text-align: left;\">Client</h3>\n",
       "<ul style=\"text-align: left; list-style: none; margin: 0; padding: 0;\">\n",
       "  <li><b>Scheduler: </b>tcp://10.6.76.36:36919</li>\n",
       "  <li><b>Dashboard: </b><a href='http://10.6.76.36:8787/status' target='_blank'>http://10.6.76.36:8787/status</a></li>\n",
       "</ul>\n",
       "</td>\n",
       "<td style=\"vertical-align: top; border: 0px solid white\">\n",
       "<h3 style=\"text-align: left;\">Cluster</h3>\n",
       "<ul style=\"text-align: left; list-style:none; margin: 0; padding: 0;\">\n",
       "  <li><b>Workers: </b>0</li>\n",
       "  <li><b>Cores: </b>0</li>\n",
       "  <li><b>Memory: </b>0 B</li>\n",
       "</ul>\n",
       "</td>\n",
       "</tr>\n",
       "</table>"
      ],
      "text/plain": [
       "<Client: 'tcp://10.6.76.36:36919' processes=0 threads=0, memory=0 B>"
      ]
     },
     "execution_count": 5,
     "metadata": {},
     "output_type": "execute_result"
    }
   ],
   "source": [
    "client"
   ]
  },
  {
   "cell_type": "markdown",
   "metadata": {},
   "source": [
    "# Intake testbed"
   ]
  },
  {
   "cell_type": "code",
   "execution_count": 2,
   "metadata": {},
   "outputs": [],
   "source": [
    "import intake"
   ]
  },
  {
   "cell_type": "code",
   "execution_count": 3,
   "metadata": {},
   "outputs": [],
   "source": [
    "NCI_catalog = intake.open_catalog('/g/data/hh5/public/apps/nci-intake-catalogue/catalogue.yaml')"
   ]
  },
  {
   "cell_type": "code",
   "execution_count": 4,
   "metadata": {},
   "outputs": [
    {
     "data": {
      "text/plain": [
       "['era5', 'era5_land', 'ecmwf', 'esgf']"
      ]
     },
     "execution_count": 4,
     "metadata": {},
     "output_type": "execute_result"
    }
   ],
   "source": [
    "list(NCI_catalog)"
   ]
  },
  {
   "cell_type": "code",
   "execution_count": 11,
   "metadata": {},
   "outputs": [
    {
     "data": {
      "text/plain": [
       "['cmip5',\n",
       " 'cmip5_all',\n",
       " 'cmip6',\n",
       " 'cmip6_all',\n",
       " 'cordex',\n",
       " 'cordex_all',\n",
       " 'cmip5_gr1p5',\n",
       " 'cmip6_gr1p5']"
      ]
     },
     "execution_count": 11,
     "metadata": {},
     "output_type": "execute_result"
    }
   ],
   "source": [
    "list(NCI_catalog.esgf)"
   ]
  },
  {
   "cell_type": "code",
   "execution_count": 35,
   "metadata": {},
   "outputs": [
    {
     "data": {
      "text/html": [
       "<p><strong>cmip5_all catalog with 641 dataset(s) from 984 asset(s)</strong>:</p> <div>\n",
       "<style scoped>\n",
       "    .dataframe tbody tr th:only-of-type {\n",
       "        vertical-align: middle;\n",
       "    }\n",
       "\n",
       "    .dataframe tbody tr th {\n",
       "        vertical-align: top;\n",
       "    }\n",
       "\n",
       "    .dataframe thead th {\n",
       "        text-align: right;\n",
       "    }\n",
       "</style>\n",
       "<table border=\"1\" class=\"dataframe\">\n",
       "  <thead>\n",
       "    <tr style=\"text-align: right;\">\n",
       "      <th></th>\n",
       "      <th>unique</th>\n",
       "    </tr>\n",
       "  </thead>\n",
       "  <tbody>\n",
       "    <tr>\n",
       "      <th>path</th>\n",
       "      <td>984</td>\n",
       "    </tr>\n",
       "    <tr>\n",
       "      <th>project</th>\n",
       "      <td>1</td>\n",
       "    </tr>\n",
       "    <tr>\n",
       "      <th>product</th>\n",
       "      <td>1</td>\n",
       "    </tr>\n",
       "    <tr>\n",
       "      <th>institute</th>\n",
       "      <td>1</td>\n",
       "    </tr>\n",
       "    <tr>\n",
       "      <th>model</th>\n",
       "      <td>4</td>\n",
       "    </tr>\n",
       "    <tr>\n",
       "      <th>experiment</th>\n",
       "      <td>65</td>\n",
       "    </tr>\n",
       "    <tr>\n",
       "      <th>time_frequency</th>\n",
       "      <td>1</td>\n",
       "    </tr>\n",
       "    <tr>\n",
       "      <th>realm</th>\n",
       "      <td>1</td>\n",
       "    </tr>\n",
       "    <tr>\n",
       "      <th>cmor_table</th>\n",
       "      <td>1</td>\n",
       "    </tr>\n",
       "    <tr>\n",
       "      <th>ensemble</th>\n",
       "      <td>32</td>\n",
       "    </tr>\n",
       "    <tr>\n",
       "      <th>version</th>\n",
       "      <td>52</td>\n",
       "    </tr>\n",
       "    <tr>\n",
       "      <th>variable</th>\n",
       "      <td>1</td>\n",
       "    </tr>\n",
       "    <tr>\n",
       "      <th>date_range</th>\n",
       "      <td>136</td>\n",
       "    </tr>\n",
       "  </tbody>\n",
       "</table>\n",
       "</div>"
      ],
      "text/plain": [
       "<IPython.core.display.HTML object>"
      ]
     },
     "metadata": {},
     "output_type": "display_data"
    }
   ],
   "source": [
    "NCI_catalog.esgf.cmip5_all.search(institute=\"MOHC\",variable='psl',time_frequency='mon')"
   ]
  },
  {
   "cell_type": "code",
   "execution_count": 38,
   "metadata": {},
   "outputs": [
    {
     "data": {
      "text/html": [
       "<p><strong>cmip5_all catalog with 8 dataset(s) from 45 asset(s)</strong>:</p> <div>\n",
       "<style scoped>\n",
       "    .dataframe tbody tr th:only-of-type {\n",
       "        vertical-align: middle;\n",
       "    }\n",
       "\n",
       "    .dataframe tbody tr th {\n",
       "        vertical-align: top;\n",
       "    }\n",
       "\n",
       "    .dataframe thead th {\n",
       "        text-align: right;\n",
       "    }\n",
       "</style>\n",
       "<table border=\"1\" class=\"dataframe\">\n",
       "  <thead>\n",
       "    <tr style=\"text-align: right;\">\n",
       "      <th></th>\n",
       "      <th>unique</th>\n",
       "    </tr>\n",
       "  </thead>\n",
       "  <tbody>\n",
       "    <tr>\n",
       "      <th>path</th>\n",
       "      <td>45</td>\n",
       "    </tr>\n",
       "    <tr>\n",
       "      <th>project</th>\n",
       "      <td>1</td>\n",
       "    </tr>\n",
       "    <tr>\n",
       "      <th>product</th>\n",
       "      <td>1</td>\n",
       "    </tr>\n",
       "    <tr>\n",
       "      <th>institute</th>\n",
       "      <td>1</td>\n",
       "    </tr>\n",
       "    <tr>\n",
       "      <th>model</th>\n",
       "      <td>2</td>\n",
       "    </tr>\n",
       "    <tr>\n",
       "      <th>experiment</th>\n",
       "      <td>1</td>\n",
       "    </tr>\n",
       "    <tr>\n",
       "      <th>time_frequency</th>\n",
       "      <td>1</td>\n",
       "    </tr>\n",
       "    <tr>\n",
       "      <th>realm</th>\n",
       "      <td>1</td>\n",
       "    </tr>\n",
       "    <tr>\n",
       "      <th>cmor_table</th>\n",
       "      <td>1</td>\n",
       "    </tr>\n",
       "    <tr>\n",
       "      <th>ensemble</th>\n",
       "      <td>4</td>\n",
       "    </tr>\n",
       "    <tr>\n",
       "      <th>version</th>\n",
       "      <td>6</td>\n",
       "    </tr>\n",
       "    <tr>\n",
       "      <th>variable</th>\n",
       "      <td>1</td>\n",
       "    </tr>\n",
       "    <tr>\n",
       "      <th>date_range</th>\n",
       "      <td>17</td>\n",
       "    </tr>\n",
       "  </tbody>\n",
       "</table>\n",
       "</div>"
      ],
      "text/plain": [
       "<IPython.core.display.HTML object>"
      ]
     },
     "metadata": {},
     "output_type": "display_data"
    }
   ],
   "source": [
    "NCI_catalog.esgf.cmip5_all.search(institute=\"MOHC\",variable='psl',time_frequency='mon',experiment='rcp85').unique('path')"
   ]
  },
  {
   "cell_type": "code",
   "execution_count": 41,
   "metadata": {},
   "outputs": [
    {
     "data": {
      "text/plain": [
       "{'path': {'count': 5,\n",
       "  'values': ['/g/data/al33/replicas/CMIP5/output1/MOHC/HadGEM2-CC/rcp85/mon/atmos/Amon/r1i1p1/v20120531/psl/psl_Amon_HadGEM2-CC_rcp85_r1i1p1_200512-203011.nc',\n",
       "   '/g/data/al33/replicas/CMIP5/output1/MOHC/HadGEM2-CC/rcp85/mon/atmos/Amon/r1i1p1/v20120531/psl/psl_Amon_HadGEM2-CC_rcp85_r1i1p1_203012-205511.nc',\n",
       "   '/g/data/al33/replicas/CMIP5/output1/MOHC/HadGEM2-CC/rcp85/mon/atmos/Amon/r1i1p1/v20120531/psl/psl_Amon_HadGEM2-CC_rcp85_r1i1p1_205512-208011.nc',\n",
       "   '/g/data/al33/replicas/CMIP5/output1/MOHC/HadGEM2-CC/rcp85/mon/atmos/Amon/r1i1p1/v20120531/psl/psl_Amon_HadGEM2-CC_rcp85_r1i1p1_208012-209912.nc',\n",
       "   '/g/data/al33/replicas/CMIP5/output1/MOHC/HadGEM2-CC/rcp85/mon/atmos/Amon/r1i1p1/v20120531/psl/psl_Amon_HadGEM2-CC_rcp85_r1i1p1_210001-210012.nc']}}"
      ]
     },
     "execution_count": 41,
     "metadata": {},
     "output_type": "execute_result"
    }
   ],
   "source": [
    "NCI_catalog.esgf.cmip5_all.search(institute=\"MOHC\",variable='psl',time_frequency='mon',experiment='rcp85',model='HadGEM2-CC',version='v20120531').unique('path')"
   ]
  },
  {
   "cell_type": "markdown",
   "metadata": {},
   "source": [
    "# Build CCIA datasets"
   ]
  },
  {
   "cell_type": "code",
   "execution_count": 43,
   "metadata": {},
   "outputs": [],
   "source": [
    "CCIA_HadGEM2_CC = NCI_catalog.esgf.cmip5_all.search(institute=\"MOHC\",variable='psl',time_frequency='mon',experiment='rcp85',model='HadGEM2-CC',version='v20120531')"
   ]
  },
  {
   "cell_type": "code",
   "execution_count": 56,
   "metadata": {},
   "outputs": [],
   "source": [
    "CCIA_ACCESS1_0 = NCI_catalog.esgf.cmip5_all.search(institute=\"CSIRO-BOM\",variable='psl',time_frequency='mon',experiment='rcp85',model='ACCESS1.0',version='v20120727')"
   ]
  },
  {
   "cell_type": "code",
   "execution_count": 57,
   "metadata": {},
   "outputs": [
    {
     "data": {
      "text/plain": [
       "{'path': {'count': 5,\n",
       "  'values': ['/g/data/al33/replicas/CMIP5/output1/NSF-DOE-NCAR/CESM1-CAM5/rcp85/mon/atmos/Amon/r1i1p1/v20130313/psl/psl_Amon_CESM1-CAM5_rcp85_r1i1p1_200601-210012.nc',\n",
       "   '/g/data/al33/replicas/CMIP5/output1/NSF-DOE-NCAR/CESM1-CAM5/rcp85/mon/atmos/Amon/r2i1p1/v20130313/psl/psl_Amon_CESM1-CAM5_rcp85_r2i1p1_200601-210012.nc',\n",
       "   '/g/data/al33/replicas/CMIP5/output1/NSF-DOE-NCAR/CESM1-CAM5/rcp85/mon/atmos/Amon/r3i1p1/v20130313/psl/psl_Amon_CESM1-CAM5_rcp85_r3i1p1_200601-210012.nc',\n",
       "   '/g/data/al33/replicas/CMIP5/output1/NSF-DOE-NCAR/CESM1-CAM5/rcp85/mon/atmos/Amon/r3i1p1/v20140129/psl/psl_Amon_CESM1-CAM5_rcp85_r3i1p1_200601-210012.nc',\n",
       "   '/g/data/al33/replicas/CMIP5/output1/NSF-DOE-NCAR/CESM1-CAM5/rcp85/mon/atmos/Amon/r3i1p1/v20140310/psl/psl_Amon_CESM1-CAM5_rcp85_r3i1p1_200601-210012.nc']}}"
      ]
     },
     "execution_count": 57,
     "metadata": {},
     "output_type": "execute_result"
    }
   ],
   "source": [
    "NCI_catalog.esgf.cmip5_all.search(institute=\"NSF-DOE-NCAR\",variable='psl',time_frequency='mon',experiment='rcp85',model='CESM1(CAM5)').unique('path')"
   ]
  },
  {
   "cell_type": "code",
   "execution_count": 60,
   "metadata": {},
   "outputs": [],
   "source": [
    "CCIA_CESM1_CAM5_r1i1p1 = NCI_catalog.esgf.cmip5_all.search(institute=\"NSF-DOE-NCAR\",variable='psl',time_frequency='mon',experiment='rcp85',model='CESM1(CAM5)',ensemble='r1i1p1',version='v20130313')"
   ]
  },
  {
   "cell_type": "code",
   "execution_count": 61,
   "metadata": {},
   "outputs": [],
   "source": [
    "CCIA_CESM1_CAM5_r2i1p1 = NCI_catalog.esgf.cmip5_all.search(institute=\"NSF-DOE-NCAR\",variable='psl',time_frequency='mon',experiment='rcp85',model='CESM1(CAM5)',ensemble='r2i1p1',version='v20130313')"
   ]
  },
  {
   "cell_type": "code",
   "execution_count": 62,
   "metadata": {},
   "outputs": [],
   "source": [
    "CCIA_CESM1_CAM5_r3i1p1 = NCI_catalog.esgf.cmip5_all.search(institute=\"NSF-DOE-NCAR\",variable='psl',time_frequency='mon',experiment='rcp85',model='CESM1(CAM5)',ensemble='r2i1p1',version='v20140310')"
   ]
  },
  {
   "cell_type": "code",
   "execution_count": 69,
   "metadata": {},
   "outputs": [
    {
     "data": {
      "text/plain": [
       "{'path': {'count': 2,\n",
       "  'values': ['/g/data/al33/replicas/CMIP5/output1/CNRM-CERFACS/CNRM-CM5/rcp85/mon/atmos/Amon/r10i1p1/v20110915/psl/psl_Amon_CNRM-CM5_rcp85_r10i1p1_200601-205512.nc',\n",
       "   '/g/data/al33/replicas/CMIP5/output1/CNRM-CERFACS/CNRM-CM5/rcp85/mon/atmos/Amon/r10i1p1/v20110915/psl/psl_Amon_CNRM-CM5_rcp85_r10i1p1_205601-210012.nc']}}"
      ]
     },
     "execution_count": 69,
     "metadata": {},
     "output_type": "execute_result"
    }
   ],
   "source": [
    "NCI_catalog.esgf.cmip5_all.search(institute=\"CNRM-CERFACS\",variable='psl',time_frequency='mon',experiment='rcp85',model='CNRM-CM5',ensemble='r10i1p1').unique('path')"
   ]
  },
  {
   "cell_type": "code",
   "execution_count": null,
   "metadata": {},
   "outputs": [],
   "source": []
  },
  {
   "cell_type": "code",
   "execution_count": null,
   "metadata": {},
   "outputs": [],
   "source": []
  },
  {
   "cell_type": "code",
   "execution_count": null,
   "metadata": {},
   "outputs": [],
   "source": []
  },
  {
   "cell_type": "code",
   "execution_count": null,
   "metadata": {},
   "outputs": [],
   "source": []
  },
  {
   "cell_type": "code",
   "execution_count": null,
   "metadata": {},
   "outputs": [],
   "source": []
  },
  {
   "cell_type": "code",
   "execution_count": 63,
   "metadata": {},
   "outputs": [
    {
     "data": {
      "text/plain": [
       "{'institute': {'count': 23,\n",
       "  'values': ['BCC',\n",
       "   'BNU',\n",
       "   'CCCMA',\n",
       "   'CMCC',\n",
       "   'CNRM-CERFACS',\n",
       "   'CSIRO-BOM',\n",
       "   'CSIRO-QCCCE',\n",
       "   'FIO',\n",
       "   'ICHEC',\n",
       "   'INM',\n",
       "   'IPSL',\n",
       "   'LASG-CESS',\n",
       "   'LASG-IAP',\n",
       "   'MIROC',\n",
       "   'MOHC',\n",
       "   'MPI-M',\n",
       "   'MRI',\n",
       "   'NASA-GISS',\n",
       "   'NCAR',\n",
       "   'NCC',\n",
       "   'NIMR-KMA',\n",
       "   'NOAA-GFDL',\n",
       "   'NSF-DOE-NCAR']}}"
      ]
     },
     "execution_count": 63,
     "metadata": {},
     "output_type": "execute_result"
    }
   ],
   "source": [
    "NCI_catalog.esgf.cmip5_all.search(variable='psl',time_frequency='mon',experiment='rcp85').unique('institute')"
   ]
  },
  {
   "cell_type": "code",
   "execution_count": 64,
   "metadata": {},
   "outputs": [
    {
     "data": {
      "text/plain": [
       "{'model': {'count': 42,\n",
       "  'values': ['ACCESS1.0',\n",
       "   'ACCESS1.3',\n",
       "   'BCC-CSM1.1',\n",
       "   'BCC-CSM1.1(m)',\n",
       "   'BNU-ESM',\n",
       "   'CCSM4',\n",
       "   'CESM1(BGC)',\n",
       "   'CESM1(CAM5)',\n",
       "   'CESM1(WACCM)',\n",
       "   'CMCC-CESM',\n",
       "   'CMCC-CM',\n",
       "   'CMCC-CMS',\n",
       "   'CNRM-CM5',\n",
       "   'CSIRO-Mk3L-1-2',\n",
       "   'CanESM2',\n",
       "   'EC-EARTH',\n",
       "   'FGOALS-g2',\n",
       "   'FGOALS-s2',\n",
       "   'FIO-ESM',\n",
       "   'GFDL-CM3',\n",
       "   'GFDL-ESM2G',\n",
       "   'GFDL-ESM2M',\n",
       "   'GISS-E2-H',\n",
       "   'GISS-E2-H-CC',\n",
       "   'GISS-E2-R',\n",
       "   'GISS-E2-R-CC',\n",
       "   'HadGEM2-AO',\n",
       "   'HadGEM2-CC',\n",
       "   'HadGEM2-ES',\n",
       "   'INM-CM4',\n",
       "   'IPSL-CM5A-LR',\n",
       "   'IPSL-CM5A-MR',\n",
       "   'IPSL-CM5B-LR',\n",
       "   'MIROC-ESM',\n",
       "   'MIROC-ESM-CHEM',\n",
       "   'MIROC5',\n",
       "   'MPI-ESM-LR',\n",
       "   'MPI-ESM-MR',\n",
       "   'MRI-CGCM3',\n",
       "   'MRI-ESM1',\n",
       "   'NorESM1-M',\n",
       "   'NorESM1-ME']}}"
      ]
     },
     "execution_count": 64,
     "metadata": {},
     "output_type": "execute_result"
    }
   ],
   "source": [
    "NCI_catalog.esgf.cmip5_all.search(variable='psl',time_frequency='mon',experiment='rcp85').unique('model')"
   ]
  },
  {
   "cell_type": "code",
   "execution_count": null,
   "metadata": {},
   "outputs": [],
   "source": []
  },
  {
   "cell_type": "code",
   "execution_count": null,
   "metadata": {},
   "outputs": [],
   "source": []
  },
  {
   "cell_type": "code",
   "execution_count": null,
   "metadata": {},
   "outputs": [],
   "source": []
  },
  {
   "cell_type": "code",
   "execution_count": null,
   "metadata": {},
   "outputs": [],
   "source": []
  },
  {
   "cell_type": "code",
   "execution_count": null,
   "metadata": {},
   "outputs": [],
   "source": []
  },
  {
   "cell_type": "code",
   "execution_count": null,
   "metadata": {},
   "outputs": [],
   "source": []
  },
  {
   "cell_type": "code",
   "execution_count": null,
   "metadata": {},
   "outputs": [],
   "source": []
  },
  {
   "cell_type": "code",
   "execution_count": null,
   "metadata": {},
   "outputs": [],
   "source": []
  },
  {
   "cell_type": "code",
   "execution_count": 9,
   "metadata": {},
   "outputs": [
    {
     "ename": "TypeError",
     "evalue": "search() got an unexpected keyword argument 'variable'",
     "output_type": "error",
     "traceback": [
      "\u001b[0;31m---------------------------------------------------------------------------\u001b[0m",
      "\u001b[0;31mTypeError\u001b[0m                                 Traceback (most recent call last)",
      "\u001b[0;32m<ipython-input-9-002f28aa01cc>\u001b[0m in \u001b[0;36m<module>\u001b[0;34m\u001b[0m\n\u001b[0;32m----> 1\u001b[0;31m \u001b[0mNCI_catalog\u001b[0m\u001b[0;34m.\u001b[0m\u001b[0mesgf\u001b[0m\u001b[0;34m.\u001b[0m\u001b[0msearch\u001b[0m\u001b[0;34m(\u001b[0m\u001b[0mvariable\u001b[0m\u001b[0;34m=\u001b[0m\u001b[0;34m'psl'\u001b[0m\u001b[0;34m)\u001b[0m\u001b[0;34m.\u001b[0m\u001b[0munique\u001b[0m\u001b[0;34m(\u001b[0m\u001b[0;34m'path'\u001b[0m\u001b[0;34m)\u001b[0m\u001b[0;34m\u001b[0m\u001b[0;34m\u001b[0m\u001b[0m\n\u001b[0m",
      "\u001b[0;32m/g/data/v14/tm4888/miniconda3/envs/pangeo_hpc_operational/lib/python3.8/site-packages/intake/catalog/utils.py\u001b[0m in \u001b[0;36mwrapper\u001b[0;34m(self, *args, **kwargs)\u001b[0m\n\u001b[1;32m     41\u001b[0m     \u001b[0;32mdef\u001b[0m \u001b[0mwrapper\u001b[0m\u001b[0;34m(\u001b[0m\u001b[0mself\u001b[0m\u001b[0;34m,\u001b[0m \u001b[0;34m*\u001b[0m\u001b[0margs\u001b[0m\u001b[0;34m,\u001b[0m \u001b[0;34m**\u001b[0m\u001b[0mkwargs\u001b[0m\u001b[0;34m)\u001b[0m\u001b[0;34m:\u001b[0m\u001b[0;34m\u001b[0m\u001b[0;34m\u001b[0m\u001b[0m\n\u001b[1;32m     42\u001b[0m         \u001b[0mself\u001b[0m\u001b[0;34m.\u001b[0m\u001b[0mreload\u001b[0m\u001b[0;34m(\u001b[0m\u001b[0;34m)\u001b[0m\u001b[0;34m\u001b[0m\u001b[0;34m\u001b[0m\u001b[0m\n\u001b[0;32m---> 43\u001b[0;31m         \u001b[0;32mreturn\u001b[0m \u001b[0mf\u001b[0m\u001b[0;34m(\u001b[0m\u001b[0mself\u001b[0m\u001b[0;34m,\u001b[0m \u001b[0;34m*\u001b[0m\u001b[0margs\u001b[0m\u001b[0;34m,\u001b[0m \u001b[0;34m**\u001b[0m\u001b[0mkwargs\u001b[0m\u001b[0;34m)\u001b[0m\u001b[0;34m\u001b[0m\u001b[0;34m\u001b[0m\u001b[0m\n\u001b[0m\u001b[1;32m     44\u001b[0m \u001b[0;34m\u001b[0m\u001b[0m\n\u001b[1;32m     45\u001b[0m     \u001b[0;32mreturn\u001b[0m \u001b[0mwrapper\u001b[0m\u001b[0;34m\u001b[0m\u001b[0;34m\u001b[0m\u001b[0m\n",
      "\u001b[0;31mTypeError\u001b[0m: search() got an unexpected keyword argument 'variable'"
     ]
    }
   ],
   "source": [
    "NCI_catalog.esgf.search(variable='psl').unique('path')"
   ]
  },
  {
   "cell_type": "code",
   "execution_count": null,
   "metadata": {},
   "outputs": [],
   "source": []
  },
  {
   "cell_type": "code",
   "execution_count": 30,
   "metadata": {},
   "outputs": [
    {
     "data": {
      "text/html": [
       "<p><strong>cordex catalog with 238 dataset(s) from 12774 asset(s)</strong>:</p> <div>\n",
       "<style scoped>\n",
       "    .dataframe tbody tr th:only-of-type {\n",
       "        vertical-align: middle;\n",
       "    }\n",
       "\n",
       "    .dataframe tbody tr th {\n",
       "        vertical-align: top;\n",
       "    }\n",
       "\n",
       "    .dataframe thead th {\n",
       "        text-align: right;\n",
       "    }\n",
       "</style>\n",
       "<table border=\"1\" class=\"dataframe\">\n",
       "  <thead>\n",
       "    <tr style=\"text-align: right;\">\n",
       "      <th></th>\n",
       "      <th>unique</th>\n",
       "    </tr>\n",
       "  </thead>\n",
       "  <tbody>\n",
       "    <tr>\n",
       "      <th>project</th>\n",
       "      <td>1</td>\n",
       "    </tr>\n",
       "    <tr>\n",
       "      <th>product</th>\n",
       "      <td>1</td>\n",
       "    </tr>\n",
       "    <tr>\n",
       "      <th>domain</th>\n",
       "      <td>2</td>\n",
       "    </tr>\n",
       "    <tr>\n",
       "      <th>institute</th>\n",
       "      <td>3</td>\n",
       "    </tr>\n",
       "    <tr>\n",
       "      <th>driving_model</th>\n",
       "      <td>12</td>\n",
       "    </tr>\n",
       "    <tr>\n",
       "      <th>experiment</th>\n",
       "      <td>4</td>\n",
       "    </tr>\n",
       "    <tr>\n",
       "      <th>ensemble</th>\n",
       "      <td>1</td>\n",
       "    </tr>\n",
       "    <tr>\n",
       "      <th>rcm_name</th>\n",
       "      <td>7</td>\n",
       "    </tr>\n",
       "    <tr>\n",
       "      <th>rcm_version</th>\n",
       "      <td>2</td>\n",
       "    </tr>\n",
       "    <tr>\n",
       "      <th>time_frequency</th>\n",
       "      <td>5</td>\n",
       "    </tr>\n",
       "    <tr>\n",
       "      <th>variable</th>\n",
       "      <td>1</td>\n",
       "    </tr>\n",
       "    <tr>\n",
       "      <th>date_range</th>\n",
       "      <td>798</td>\n",
       "    </tr>\n",
       "    <tr>\n",
       "      <th>path</th>\n",
       "      <td>12774</td>\n",
       "    </tr>\n",
       "    <tr>\n",
       "      <th>version</th>\n",
       "      <td>8</td>\n",
       "    </tr>\n",
       "  </tbody>\n",
       "</table>\n",
       "</div>"
      ],
      "text/plain": [
       "<IPython.core.display.HTML object>"
      ]
     },
     "metadata": {},
     "output_type": "display_data"
    }
   ],
   "source": [
    "result = cordex.search(variable='psl')\n",
    "result"
   ]
  },
  {
   "cell_type": "code",
   "execution_count": 39,
   "metadata": {},
   "outputs": [
    {
     "data": {
      "text/plain": [
       "{'path': {'count': 66,\n",
       "  'values': ['/g/data/rr3/publications/CORDEX/output/AUS-44i/UNSW/CSIRO-BOM-ACCESS1-0/historical/r1i1p1/UNSW-WRF360J/v1/day/psl/v20180614/psl_AUS-44i_CSIRO-BOM-ACCESS1-0_historical_r1i1p1_UNSW-WRF360J_v1_day_19510101-19551231.nc',\n",
       "   '/g/data/rr3/publications/CORDEX/output/AUS-44i/UNSW/CSIRO-BOM-ACCESS1-0/historical/r1i1p1/UNSW-WRF360J/v1/day/psl/v20180614/psl_AUS-44i_CSIRO-BOM-ACCESS1-0_historical_r1i1p1_UNSW-WRF360J_v1_day_19560101-19601231.nc',\n",
       "   '/g/data/rr3/publications/CORDEX/output/AUS-44i/UNSW/CSIRO-BOM-ACCESS1-0/historical/r1i1p1/UNSW-WRF360J/v1/day/psl/v20180614/psl_AUS-44i_CSIRO-BOM-ACCESS1-0_historical_r1i1p1_UNSW-WRF360J_v1_day_19610101-19651231.nc',\n",
       "   '/g/data/rr3/publications/CORDEX/output/AUS-44i/UNSW/CSIRO-BOM-ACCESS1-0/historical/r1i1p1/UNSW-WRF360J/v1/day/psl/v20180614/psl_AUS-44i_CSIRO-BOM-ACCESS1-0_historical_r1i1p1_UNSW-WRF360J_v1_day_19660101-19701231.nc',\n",
       "   '/g/data/rr3/publications/CORDEX/output/AUS-44i/UNSW/CSIRO-BOM-ACCESS1-0/historical/r1i1p1/UNSW-WRF360J/v1/day/psl/v20180614/psl_AUS-44i_CSIRO-BOM-ACCESS1-0_historical_r1i1p1_UNSW-WRF360J_v1_day_19710101-19751231.nc',\n",
       "   '/g/data/rr3/publications/CORDEX/output/AUS-44i/UNSW/CSIRO-BOM-ACCESS1-0/historical/r1i1p1/UNSW-WRF360J/v1/day/psl/v20180614/psl_AUS-44i_CSIRO-BOM-ACCESS1-0_historical_r1i1p1_UNSW-WRF360J_v1_day_19760101-19801231.nc',\n",
       "   '/g/data/rr3/publications/CORDEX/output/AUS-44i/UNSW/CSIRO-BOM-ACCESS1-0/historical/r1i1p1/UNSW-WRF360J/v1/day/psl/v20180614/psl_AUS-44i_CSIRO-BOM-ACCESS1-0_historical_r1i1p1_UNSW-WRF360J_v1_day_19810101-19851231.nc',\n",
       "   '/g/data/rr3/publications/CORDEX/output/AUS-44i/UNSW/CSIRO-BOM-ACCESS1-0/historical/r1i1p1/UNSW-WRF360J/v1/day/psl/v20180614/psl_AUS-44i_CSIRO-BOM-ACCESS1-0_historical_r1i1p1_UNSW-WRF360J_v1_day_19860101-19901231.nc',\n",
       "   '/g/data/rr3/publications/CORDEX/output/AUS-44i/UNSW/CSIRO-BOM-ACCESS1-0/historical/r1i1p1/UNSW-WRF360J/v1/day/psl/v20180614/psl_AUS-44i_CSIRO-BOM-ACCESS1-0_historical_r1i1p1_UNSW-WRF360J_v1_day_19910101-19951231.nc',\n",
       "   '/g/data/rr3/publications/CORDEX/output/AUS-44i/UNSW/CSIRO-BOM-ACCESS1-0/historical/r1i1p1/UNSW-WRF360J/v1/day/psl/v20180614/psl_AUS-44i_CSIRO-BOM-ACCESS1-0_historical_r1i1p1_UNSW-WRF360J_v1_day_19960101-20001231.nc',\n",
       "   '/g/data/rr3/publications/CORDEX/output/AUS-44i/UNSW/CSIRO-BOM-ACCESS1-0/historical/r1i1p1/UNSW-WRF360J/v1/day/psl/v20180614/psl_AUS-44i_CSIRO-BOM-ACCESS1-0_historical_r1i1p1_UNSW-WRF360J_v1_day_20010101-20051231.nc',\n",
       "   '/g/data/rr3/publications/CORDEX/output/AUS-44i/UNSW/CSIRO-BOM-ACCESS1-0/historical/r1i1p1/UNSW-WRF360K/v1/day/psl/v20180614/psl_AUS-44i_CSIRO-BOM-ACCESS1-0_historical_r1i1p1_UNSW-WRF360K_v1_day_19510101-19551231.nc',\n",
       "   '/g/data/rr3/publications/CORDEX/output/AUS-44i/UNSW/CSIRO-BOM-ACCESS1-0/historical/r1i1p1/UNSW-WRF360K/v1/day/psl/v20180614/psl_AUS-44i_CSIRO-BOM-ACCESS1-0_historical_r1i1p1_UNSW-WRF360K_v1_day_19560101-19601231.nc',\n",
       "   '/g/data/rr3/publications/CORDEX/output/AUS-44i/UNSW/CSIRO-BOM-ACCESS1-0/historical/r1i1p1/UNSW-WRF360K/v1/day/psl/v20180614/psl_AUS-44i_CSIRO-BOM-ACCESS1-0_historical_r1i1p1_UNSW-WRF360K_v1_day_19610101-19651231.nc',\n",
       "   '/g/data/rr3/publications/CORDEX/output/AUS-44i/UNSW/CSIRO-BOM-ACCESS1-0/historical/r1i1p1/UNSW-WRF360K/v1/day/psl/v20180614/psl_AUS-44i_CSIRO-BOM-ACCESS1-0_historical_r1i1p1_UNSW-WRF360K_v1_day_19660101-19701231.nc',\n",
       "   '/g/data/rr3/publications/CORDEX/output/AUS-44i/UNSW/CSIRO-BOM-ACCESS1-0/historical/r1i1p1/UNSW-WRF360K/v1/day/psl/v20180614/psl_AUS-44i_CSIRO-BOM-ACCESS1-0_historical_r1i1p1_UNSW-WRF360K_v1_day_19710101-19751231.nc',\n",
       "   '/g/data/rr3/publications/CORDEX/output/AUS-44i/UNSW/CSIRO-BOM-ACCESS1-0/historical/r1i1p1/UNSW-WRF360K/v1/day/psl/v20180614/psl_AUS-44i_CSIRO-BOM-ACCESS1-0_historical_r1i1p1_UNSW-WRF360K_v1_day_19760101-19801231.nc',\n",
       "   '/g/data/rr3/publications/CORDEX/output/AUS-44i/UNSW/CSIRO-BOM-ACCESS1-0/historical/r1i1p1/UNSW-WRF360K/v1/day/psl/v20180614/psl_AUS-44i_CSIRO-BOM-ACCESS1-0_historical_r1i1p1_UNSW-WRF360K_v1_day_19810101-19851231.nc',\n",
       "   '/g/data/rr3/publications/CORDEX/output/AUS-44i/UNSW/CSIRO-BOM-ACCESS1-0/historical/r1i1p1/UNSW-WRF360K/v1/day/psl/v20180614/psl_AUS-44i_CSIRO-BOM-ACCESS1-0_historical_r1i1p1_UNSW-WRF360K_v1_day_19860101-19901231.nc',\n",
       "   '/g/data/rr3/publications/CORDEX/output/AUS-44i/UNSW/CSIRO-BOM-ACCESS1-0/historical/r1i1p1/UNSW-WRF360K/v1/day/psl/v20180614/psl_AUS-44i_CSIRO-BOM-ACCESS1-0_historical_r1i1p1_UNSW-WRF360K_v1_day_19910101-19951231.nc',\n",
       "   '/g/data/rr3/publications/CORDEX/output/AUS-44i/UNSW/CSIRO-BOM-ACCESS1-0/historical/r1i1p1/UNSW-WRF360K/v1/day/psl/v20180614/psl_AUS-44i_CSIRO-BOM-ACCESS1-0_historical_r1i1p1_UNSW-WRF360K_v1_day_19960101-20001231.nc',\n",
       "   '/g/data/rr3/publications/CORDEX/output/AUS-44i/UNSW/CSIRO-BOM-ACCESS1-0/historical/r1i1p1/UNSW-WRF360K/v1/day/psl/v20180614/psl_AUS-44i_CSIRO-BOM-ACCESS1-0_historical_r1i1p1_UNSW-WRF360K_v1_day_20010101-20051231.nc',\n",
       "   '/g/data/rr3/publications/CORDEX/output/AUS-44i/UNSW/CSIRO-BOM-ACCESS1-0/historical/r1i1p1/UNSW-WRF360L/v1/day/psl/v20180614/psl_AUS-44i_CSIRO-BOM-ACCESS1-0_historical_r1i1p1_UNSW-WRF360L_v1_day_19510101-19551231.nc',\n",
       "   '/g/data/rr3/publications/CORDEX/output/AUS-44i/UNSW/CSIRO-BOM-ACCESS1-0/historical/r1i1p1/UNSW-WRF360L/v1/day/psl/v20180614/psl_AUS-44i_CSIRO-BOM-ACCESS1-0_historical_r1i1p1_UNSW-WRF360L_v1_day_19560101-19601231.nc',\n",
       "   '/g/data/rr3/publications/CORDEX/output/AUS-44i/UNSW/CSIRO-BOM-ACCESS1-0/historical/r1i1p1/UNSW-WRF360L/v1/day/psl/v20180614/psl_AUS-44i_CSIRO-BOM-ACCESS1-0_historical_r1i1p1_UNSW-WRF360L_v1_day_19610101-19651231.nc',\n",
       "   '/g/data/rr3/publications/CORDEX/output/AUS-44i/UNSW/CSIRO-BOM-ACCESS1-0/historical/r1i1p1/UNSW-WRF360L/v1/day/psl/v20180614/psl_AUS-44i_CSIRO-BOM-ACCESS1-0_historical_r1i1p1_UNSW-WRF360L_v1_day_19660101-19701231.nc',\n",
       "   '/g/data/rr3/publications/CORDEX/output/AUS-44i/UNSW/CSIRO-BOM-ACCESS1-0/historical/r1i1p1/UNSW-WRF360L/v1/day/psl/v20180614/psl_AUS-44i_CSIRO-BOM-ACCESS1-0_historical_r1i1p1_UNSW-WRF360L_v1_day_19710101-19751231.nc',\n",
       "   '/g/data/rr3/publications/CORDEX/output/AUS-44i/UNSW/CSIRO-BOM-ACCESS1-0/historical/r1i1p1/UNSW-WRF360L/v1/day/psl/v20180614/psl_AUS-44i_CSIRO-BOM-ACCESS1-0_historical_r1i1p1_UNSW-WRF360L_v1_day_19760101-19801231.nc',\n",
       "   '/g/data/rr3/publications/CORDEX/output/AUS-44i/UNSW/CSIRO-BOM-ACCESS1-0/historical/r1i1p1/UNSW-WRF360L/v1/day/psl/v20180614/psl_AUS-44i_CSIRO-BOM-ACCESS1-0_historical_r1i1p1_UNSW-WRF360L_v1_day_19810101-19851231.nc',\n",
       "   '/g/data/rr3/publications/CORDEX/output/AUS-44i/UNSW/CSIRO-BOM-ACCESS1-0/historical/r1i1p1/UNSW-WRF360L/v1/day/psl/v20180614/psl_AUS-44i_CSIRO-BOM-ACCESS1-0_historical_r1i1p1_UNSW-WRF360L_v1_day_19860101-19901231.nc',\n",
       "   '/g/data/rr3/publications/CORDEX/output/AUS-44i/UNSW/CSIRO-BOM-ACCESS1-0/historical/r1i1p1/UNSW-WRF360L/v1/day/psl/v20180614/psl_AUS-44i_CSIRO-BOM-ACCESS1-0_historical_r1i1p1_UNSW-WRF360L_v1_day_19910101-19951231.nc',\n",
       "   '/g/data/rr3/publications/CORDEX/output/AUS-44i/UNSW/CSIRO-BOM-ACCESS1-0/historical/r1i1p1/UNSW-WRF360L/v1/day/psl/v20180614/psl_AUS-44i_CSIRO-BOM-ACCESS1-0_historical_r1i1p1_UNSW-WRF360L_v1_day_19960101-20001231.nc',\n",
       "   '/g/data/rr3/publications/CORDEX/output/AUS-44i/UNSW/CSIRO-BOM-ACCESS1-0/historical/r1i1p1/UNSW-WRF360L/v1/day/psl/v20180614/psl_AUS-44i_CSIRO-BOM-ACCESS1-0_historical_r1i1p1_UNSW-WRF360L_v1_day_20010101-20051231.nc',\n",
       "   '/g/data/rr3/publications/CORDEX/output/AUS-44i/UNSW/CSIRO-BOM-ACCESS1-3/historical/r1i1p1/UNSW-WRF360J/v1/day/psl/v20180614/psl_AUS-44i_CSIRO-BOM-ACCESS1-3_historical_r1i1p1_UNSW-WRF360J_v1_day_19510101-19551231.nc',\n",
       "   '/g/data/rr3/publications/CORDEX/output/AUS-44i/UNSW/CSIRO-BOM-ACCESS1-3/historical/r1i1p1/UNSW-WRF360J/v1/day/psl/v20180614/psl_AUS-44i_CSIRO-BOM-ACCESS1-3_historical_r1i1p1_UNSW-WRF360J_v1_day_19560101-19601231.nc',\n",
       "   '/g/data/rr3/publications/CORDEX/output/AUS-44i/UNSW/CSIRO-BOM-ACCESS1-3/historical/r1i1p1/UNSW-WRF360J/v1/day/psl/v20180614/psl_AUS-44i_CSIRO-BOM-ACCESS1-3_historical_r1i1p1_UNSW-WRF360J_v1_day_19610101-19651231.nc',\n",
       "   '/g/data/rr3/publications/CORDEX/output/AUS-44i/UNSW/CSIRO-BOM-ACCESS1-3/historical/r1i1p1/UNSW-WRF360J/v1/day/psl/v20180614/psl_AUS-44i_CSIRO-BOM-ACCESS1-3_historical_r1i1p1_UNSW-WRF360J_v1_day_19660101-19701231.nc',\n",
       "   '/g/data/rr3/publications/CORDEX/output/AUS-44i/UNSW/CSIRO-BOM-ACCESS1-3/historical/r1i1p1/UNSW-WRF360J/v1/day/psl/v20180614/psl_AUS-44i_CSIRO-BOM-ACCESS1-3_historical_r1i1p1_UNSW-WRF360J_v1_day_19710101-19751231.nc',\n",
       "   '/g/data/rr3/publications/CORDEX/output/AUS-44i/UNSW/CSIRO-BOM-ACCESS1-3/historical/r1i1p1/UNSW-WRF360J/v1/day/psl/v20180614/psl_AUS-44i_CSIRO-BOM-ACCESS1-3_historical_r1i1p1_UNSW-WRF360J_v1_day_19760101-19801231.nc',\n",
       "   '/g/data/rr3/publications/CORDEX/output/AUS-44i/UNSW/CSIRO-BOM-ACCESS1-3/historical/r1i1p1/UNSW-WRF360J/v1/day/psl/v20180614/psl_AUS-44i_CSIRO-BOM-ACCESS1-3_historical_r1i1p1_UNSW-WRF360J_v1_day_19810101-19851231.nc',\n",
       "   '/g/data/rr3/publications/CORDEX/output/AUS-44i/UNSW/CSIRO-BOM-ACCESS1-3/historical/r1i1p1/UNSW-WRF360J/v1/day/psl/v20180614/psl_AUS-44i_CSIRO-BOM-ACCESS1-3_historical_r1i1p1_UNSW-WRF360J_v1_day_19860101-19901231.nc',\n",
       "   '/g/data/rr3/publications/CORDEX/output/AUS-44i/UNSW/CSIRO-BOM-ACCESS1-3/historical/r1i1p1/UNSW-WRF360J/v1/day/psl/v20180614/psl_AUS-44i_CSIRO-BOM-ACCESS1-3_historical_r1i1p1_UNSW-WRF360J_v1_day_19910101-19951231.nc',\n",
       "   '/g/data/rr3/publications/CORDEX/output/AUS-44i/UNSW/CSIRO-BOM-ACCESS1-3/historical/r1i1p1/UNSW-WRF360J/v1/day/psl/v20180614/psl_AUS-44i_CSIRO-BOM-ACCESS1-3_historical_r1i1p1_UNSW-WRF360J_v1_day_19960101-20001231.nc',\n",
       "   '/g/data/rr3/publications/CORDEX/output/AUS-44i/UNSW/CSIRO-BOM-ACCESS1-3/historical/r1i1p1/UNSW-WRF360J/v1/day/psl/v20180614/psl_AUS-44i_CSIRO-BOM-ACCESS1-3_historical_r1i1p1_UNSW-WRF360J_v1_day_20010101-20051231.nc',\n",
       "   '/g/data/rr3/publications/CORDEX/output/AUS-44i/UNSW/CSIRO-BOM-ACCESS1-3/historical/r1i1p1/UNSW-WRF360K/v1/day/psl/v20180614/psl_AUS-44i_CSIRO-BOM-ACCESS1-3_historical_r1i1p1_UNSW-WRF360K_v1_day_19510101-19551231.nc',\n",
       "   '/g/data/rr3/publications/CORDEX/output/AUS-44i/UNSW/CSIRO-BOM-ACCESS1-3/historical/r1i1p1/UNSW-WRF360K/v1/day/psl/v20180614/psl_AUS-44i_CSIRO-BOM-ACCESS1-3_historical_r1i1p1_UNSW-WRF360K_v1_day_19560101-19601231.nc',\n",
       "   '/g/data/rr3/publications/CORDEX/output/AUS-44i/UNSW/CSIRO-BOM-ACCESS1-3/historical/r1i1p1/UNSW-WRF360K/v1/day/psl/v20180614/psl_AUS-44i_CSIRO-BOM-ACCESS1-3_historical_r1i1p1_UNSW-WRF360K_v1_day_19610101-19651231.nc',\n",
       "   '/g/data/rr3/publications/CORDEX/output/AUS-44i/UNSW/CSIRO-BOM-ACCESS1-3/historical/r1i1p1/UNSW-WRF360K/v1/day/psl/v20180614/psl_AUS-44i_CSIRO-BOM-ACCESS1-3_historical_r1i1p1_UNSW-WRF360K_v1_day_19660101-19701231.nc',\n",
       "   '/g/data/rr3/publications/CORDEX/output/AUS-44i/UNSW/CSIRO-BOM-ACCESS1-3/historical/r1i1p1/UNSW-WRF360K/v1/day/psl/v20180614/psl_AUS-44i_CSIRO-BOM-ACCESS1-3_historical_r1i1p1_UNSW-WRF360K_v1_day_19710101-19751231.nc',\n",
       "   '/g/data/rr3/publications/CORDEX/output/AUS-44i/UNSW/CSIRO-BOM-ACCESS1-3/historical/r1i1p1/UNSW-WRF360K/v1/day/psl/v20180614/psl_AUS-44i_CSIRO-BOM-ACCESS1-3_historical_r1i1p1_UNSW-WRF360K_v1_day_19760101-19801231.nc',\n",
       "   '/g/data/rr3/publications/CORDEX/output/AUS-44i/UNSW/CSIRO-BOM-ACCESS1-3/historical/r1i1p1/UNSW-WRF360K/v1/day/psl/v20180614/psl_AUS-44i_CSIRO-BOM-ACCESS1-3_historical_r1i1p1_UNSW-WRF360K_v1_day_19810101-19851231.nc',\n",
       "   '/g/data/rr3/publications/CORDEX/output/AUS-44i/UNSW/CSIRO-BOM-ACCESS1-3/historical/r1i1p1/UNSW-WRF360K/v1/day/psl/v20180614/psl_AUS-44i_CSIRO-BOM-ACCESS1-3_historical_r1i1p1_UNSW-WRF360K_v1_day_19860101-19901231.nc',\n",
       "   '/g/data/rr3/publications/CORDEX/output/AUS-44i/UNSW/CSIRO-BOM-ACCESS1-3/historical/r1i1p1/UNSW-WRF360K/v1/day/psl/v20180614/psl_AUS-44i_CSIRO-BOM-ACCESS1-3_historical_r1i1p1_UNSW-WRF360K_v1_day_19910101-19951231.nc',\n",
       "   '/g/data/rr3/publications/CORDEX/output/AUS-44i/UNSW/CSIRO-BOM-ACCESS1-3/historical/r1i1p1/UNSW-WRF360K/v1/day/psl/v20180614/psl_AUS-44i_CSIRO-BOM-ACCESS1-3_historical_r1i1p1_UNSW-WRF360K_v1_day_19960101-20001231.nc',\n",
       "   '/g/data/rr3/publications/CORDEX/output/AUS-44i/UNSW/CSIRO-BOM-ACCESS1-3/historical/r1i1p1/UNSW-WRF360K/v1/day/psl/v20180614/psl_AUS-44i_CSIRO-BOM-ACCESS1-3_historical_r1i1p1_UNSW-WRF360K_v1_day_20010101-20051231.nc',\n",
       "   '/g/data/rr3/publications/CORDEX/output/AUS-44i/UNSW/CSIRO-BOM-ACCESS1-3/historical/r1i1p1/UNSW-WRF360L/v1/day/psl/v20180614/psl_AUS-44i_CSIRO-BOM-ACCESS1-3_historical_r1i1p1_UNSW-WRF360L_v1_day_19510101-19551231.nc',\n",
       "   '/g/data/rr3/publications/CORDEX/output/AUS-44i/UNSW/CSIRO-BOM-ACCESS1-3/historical/r1i1p1/UNSW-WRF360L/v1/day/psl/v20180614/psl_AUS-44i_CSIRO-BOM-ACCESS1-3_historical_r1i1p1_UNSW-WRF360L_v1_day_19560101-19601231.nc',\n",
       "   '/g/data/rr3/publications/CORDEX/output/AUS-44i/UNSW/CSIRO-BOM-ACCESS1-3/historical/r1i1p1/UNSW-WRF360L/v1/day/psl/v20180614/psl_AUS-44i_CSIRO-BOM-ACCESS1-3_historical_r1i1p1_UNSW-WRF360L_v1_day_19610101-19651231.nc',\n",
       "   '/g/data/rr3/publications/CORDEX/output/AUS-44i/UNSW/CSIRO-BOM-ACCESS1-3/historical/r1i1p1/UNSW-WRF360L/v1/day/psl/v20180614/psl_AUS-44i_CSIRO-BOM-ACCESS1-3_historical_r1i1p1_UNSW-WRF360L_v1_day_19660101-19701231.nc',\n",
       "   '/g/data/rr3/publications/CORDEX/output/AUS-44i/UNSW/CSIRO-BOM-ACCESS1-3/historical/r1i1p1/UNSW-WRF360L/v1/day/psl/v20180614/psl_AUS-44i_CSIRO-BOM-ACCESS1-3_historical_r1i1p1_UNSW-WRF360L_v1_day_19710101-19751231.nc',\n",
       "   '/g/data/rr3/publications/CORDEX/output/AUS-44i/UNSW/CSIRO-BOM-ACCESS1-3/historical/r1i1p1/UNSW-WRF360L/v1/day/psl/v20180614/psl_AUS-44i_CSIRO-BOM-ACCESS1-3_historical_r1i1p1_UNSW-WRF360L_v1_day_19760101-19801231.nc',\n",
       "   '/g/data/rr3/publications/CORDEX/output/AUS-44i/UNSW/CSIRO-BOM-ACCESS1-3/historical/r1i1p1/UNSW-WRF360L/v1/day/psl/v20180614/psl_AUS-44i_CSIRO-BOM-ACCESS1-3_historical_r1i1p1_UNSW-WRF360L_v1_day_19810101-19851231.nc',\n",
       "   '/g/data/rr3/publications/CORDEX/output/AUS-44i/UNSW/CSIRO-BOM-ACCESS1-3/historical/r1i1p1/UNSW-WRF360L/v1/day/psl/v20180614/psl_AUS-44i_CSIRO-BOM-ACCESS1-3_historical_r1i1p1_UNSW-WRF360L_v1_day_19860101-19901231.nc',\n",
       "   '/g/data/rr3/publications/CORDEX/output/AUS-44i/UNSW/CSIRO-BOM-ACCESS1-3/historical/r1i1p1/UNSW-WRF360L/v1/day/psl/v20180614/psl_AUS-44i_CSIRO-BOM-ACCESS1-3_historical_r1i1p1_UNSW-WRF360L_v1_day_19910101-19951231.nc',\n",
       "   '/g/data/rr3/publications/CORDEX/output/AUS-44i/UNSW/CSIRO-BOM-ACCESS1-3/historical/r1i1p1/UNSW-WRF360L/v1/day/psl/v20180614/psl_AUS-44i_CSIRO-BOM-ACCESS1-3_historical_r1i1p1_UNSW-WRF360L_v1_day_19960101-20001231.nc',\n",
       "   '/g/data/rr3/publications/CORDEX/output/AUS-44i/UNSW/CSIRO-BOM-ACCESS1-3/historical/r1i1p1/UNSW-WRF360L/v1/day/psl/v20180614/psl_AUS-44i_CSIRO-BOM-ACCESS1-3_historical_r1i1p1_UNSW-WRF360L_v1_day_20010101-20051231.nc']}}"
      ]
     },
     "execution_count": 39,
     "metadata": {},
     "output_type": "execute_result"
    }
   ],
   "source": [
    "cordex.search(institute='UNSW', time_frequency='day', variable='psl', domain='AUS-44i', require_all_on=['rcm_name']).unique('path')"
   ]
  },
  {
   "cell_type": "markdown",
   "metadata": {},
   "source": [
    "# $The\\ End$"
   ]
  },
  {
   "cell_type": "code",
   "execution_count": null,
   "metadata": {},
   "outputs": [],
   "source": []
  },
  {
   "cell_type": "code",
   "execution_count": 16,
   "metadata": {},
   "outputs": [],
   "source": [
    "cluster.close()\n",
    "client.close()"
   ]
  },
  {
   "cell_type": "code",
   "execution_count": null,
   "metadata": {},
   "outputs": [],
   "source": []
  }
 ],
 "metadata": {
  "kernelspec": {
   "display_name": "Python 3",
   "language": "python",
   "name": "python3"
  },
  "language_info": {
   "codemirror_mode": {
    "name": "ipython",
    "version": 3
   },
   "file_extension": ".py",
   "mimetype": "text/x-python",
   "name": "python",
   "nbconvert_exporter": "python",
   "pygments_lexer": "ipython3",
   "version": "3.8.6"
  }
 },
 "nbformat": 4,
 "nbformat_minor": 4
}
